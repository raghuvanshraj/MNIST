{
 "cells": [
  {
   "cell_type": "code",
   "execution_count": 1,
   "id": "35a37b87",
   "metadata": {},
   "outputs": [],
   "source": [
    "import torch.nn as nn\n",
    "import torch.optim as optim\n",
    "from torchvision import transforms\n",
    "\n",
    "from src.data import MNIST\n",
    "from src.models import LeNet\n",
    "from src.training.config import TrainingConfig\n",
    "from src.training import ModelTrainer\n",
    "import matplotlib.pyplot as plt"
   ]
  },
  {
   "cell_type": "code",
   "execution_count": 2,
   "id": "a88de506",
   "metadata": {},
   "outputs": [],
   "source": [
    "training_config = TrainingConfig(batch_size=100, lr=0.0001)"
   ]
  },
  {
   "cell_type": "code",
   "execution_count": 3,
   "id": "6c981447",
   "metadata": {},
   "outputs": [],
   "source": [
    "model = LeNet()"
   ]
  },
  {
   "cell_type": "code",
   "execution_count": 4,
   "id": "0437d564",
   "metadata": {},
   "outputs": [],
   "source": [
    "transform = transforms.Compose([\n",
    "    transforms.ToTensor(),\n",
    "    transforms.Normalize((0.5,), (0.5,))\n",
    "])"
   ]
  },
  {
   "cell_type": "code",
   "execution_count": 5,
   "id": "aba37f0d",
   "metadata": {},
   "outputs": [
    {
     "name": "stderr",
     "output_type": "stream",
     "text": [
      "C:\\Users\\raghu\\anaconda3\\envs\\CV\\lib\\site-packages\\torchvision\\datasets\\mnist.py:498: UserWarning: The given NumPy array is not writeable, and PyTorch does not support non-writeable tensors. This means you can write to the underlying (supposedly non-writeable) NumPy array using the tensor. You may want to copy the array to protect its data or make it writeable before converting it to a tensor. This type of warning will be suppressed for the rest of this program. (Triggered internally at  ..\\torch\\csrc\\utils\\tensor_numpy.cpp:180.)\n",
      "  return torch.from_numpy(parsed.astype(m[2], copy=False)).view(*s)\n"
     ]
    }
   ],
   "source": [
    "training_data = MNIST(train=True, root='./data', transform=transform)\n",
    "testing_data = MNIST(train=False, root='./data', transform=transform)"
   ]
  },
  {
   "cell_type": "code",
   "execution_count": 6,
   "id": "818b72ef",
   "metadata": {},
   "outputs": [
    {
     "data": {
      "text/plain": [
       "(60000, 10000)"
      ]
     },
     "execution_count": 6,
     "metadata": {},
     "output_type": "execute_result"
    }
   ],
   "source": [
    "len(training_data), len(testing_data)"
   ]
  },
  {
   "cell_type": "code",
   "execution_count": 7,
   "id": "f1e06d1c",
   "metadata": {},
   "outputs": [
    {
     "name": "stdout",
     "output_type": "stream",
     "text": [
      "using NVIDIA GeForce GTX 1060\n"
     ]
    }
   ],
   "source": [
    "model_trainer = ModelTrainer(\n",
    "    model,\n",
    "    optim.Adam,\n",
    "    nn.CrossEntropyLoss(),\n",
    "    training_config,\n",
    "    training_data,\n",
    "    cuda=True,\n",
    "    validation_data=testing_data\n",
    ")"
   ]
  },
  {
   "cell_type": "code",
   "execution_count": 8,
   "id": "a1619274",
   "metadata": {},
   "outputs": [
    {
     "name": "stderr",
     "output_type": "stream",
     "text": [
      "C:\\Users\\raghu\\anaconda3\\envs\\CV\\lib\\site-packages\\torch\\nn\\functional.py:718: UserWarning: Named tensors and all their associated APIs are an experimental feature and subject to change. Please do not use them for anything important until they are released as stable. (Triggered internally at  ..\\c10/core/TensorImpl.h:1156.)\n",
      "  return torch.max_pool2d(input, kernel_size, stride, padding, dilation, ceil_mode)\n"
     ]
    },
    {
     "name": "stdout",
     "output_type": "stream",
     "text": [
      "training metrics:   epoch: 0  loss: 0.5548758928353588      accuracy: 85.48               \n",
      "testing metrics:    epoch: 0  loss: 0.1749721248447895      accuracy: 94.75               \n",
      "training metrics:   epoch: 1  loss: 0.1443304010418554      accuracy: 95.79               \n",
      "testing metrics:    epoch: 1  loss: 0.10461343461647629     accuracy: 96.68               \n",
      "training metrics:   epoch: 2  loss: 0.09754228753969073     accuracy: 97.08333333333333   \n",
      "testing metrics:    epoch: 2  loss: 0.07487301433458925     accuracy: 97.62               \n",
      "training metrics:   epoch: 3  loss: 0.07585486860790601     accuracy: 97.72               \n",
      "testing metrics:    epoch: 3  loss: 0.06622909516096115     accuracy: 97.77               \n",
      "training metrics:   epoch: 4  loss: 0.06347020298863451     accuracy: 98.11666666666666   \n",
      "testing metrics:    epoch: 4  loss: 0.054679263969883325    accuracy: 98.22               \n",
      "training metrics:   epoch: 5  loss: 0.05445999814740692     accuracy: 98.37               \n",
      "testing metrics:    epoch: 5  loss: 0.043951450856402514    accuracy: 98.67               \n",
      "training metrics:   epoch: 6  loss: 0.04833228340760494     accuracy: 98.535              \n",
      "testing metrics:    epoch: 6  loss: 0.04301319101359695     accuracy: 98.68               \n",
      "training metrics:   epoch: 7  loss: 0.04301596512862792     accuracy: 98.71666666666667   \n",
      "testing metrics:    epoch: 7  loss: 0.03914689803961664     accuracy: 98.77               \n",
      "training metrics:   epoch: 8  loss: 0.038199749530758706    accuracy: 98.78333333333333   \n",
      "testing metrics:    epoch: 8  loss: 0.03681826272048056     accuracy: 98.78               \n",
      "training metrics:   epoch: 9  loss: 0.03658440521452576     accuracy: 98.88666666666667   \n",
      "testing metrics:    epoch: 9  loss: 0.03584603938739747     accuracy: 98.83               \n"
     ]
    }
   ],
   "source": [
    "training_metrics, testing_metrics = model_trainer.train(10, True)"
   ]
  },
  {
   "cell_type": "code",
   "execution_count": 9,
   "id": "d30719a3",
   "metadata": {},
   "outputs": [
    {
     "data": {
      "text/plain": [
       "<matplotlib.legend.Legend at 0x22c0bc5c1f0>"
      ]
     },
     "execution_count": 9,
     "metadata": {},
     "output_type": "execute_result"
    },
    {
     "data": {
      "image/png": "[encoded data removed]",
      "text/plain": [
       "<Figure size 432x288 with 1 Axes>"
      ]
     },
     "metadata": {
      "needs_background": "light"
     },
     "output_type": "display_data"
    }
   ],
   "source": [
    "plt.plot(training_metrics.losses, label='training loss')\n",
    "plt.plot(testing_metrics.losses, label='testing loss')\n",
    "plt.grid()\n",
    "plt.legend()"
   ]
  },
  {
   "cell_type": "code",
   "execution_count": 10,
   "id": "beb54b5f",
   "metadata": {},
   "outputs": [
    {
     "data": {
      "text/plain": [
       "<matplotlib.legend.Legend at 0x22c4dd093a0>"
      ]
     },
     "execution_count": 10,
     "metadata": {},
     "output_type": "execute_result"
    },
    {
     "data": {
      "image/png": "[encoded data removed]",
      "text/plain": [
       "<Figure size 432x288 with 1 Axes>"
      ]
     },
     "metadata": {
      "needs_background": "light"
     },
     "output_type": "display_data"
    }
   ],
   "source": [
    "plt.plot(training_metrics.accuracies, label='training accuracy')\n",
    "plt.plot(testing_metrics.accuracies, label='testing accuracy')\n",
    "plt.grid()\n",
    "plt.legend()"
   ]
  },
  {
   "cell_type": "code",
   "execution_count": null,
   "id": "fe902005",
   "metadata": {},
   "outputs": [],
   "source": []
  }
 ],
 "metadata": {
  "kernelspec": {
   "display_name": "Python 3 (ipykernel)",
   "language": "python",
   "name": "python3"
  },
  "language_info": {
   "codemirror_mode": {
    "name": "ipython",
    "version": 3
   },
   "file_extension": ".py",
   "mimetype": "text/x-python",
   "name": "python",
   "nbconvert_exporter": "python",
   "pygments_lexer": "ipython3",
   "version": "3.9.6"
  }
 },
 "nbformat": 4,
 "nbformat_minor": 5
}
