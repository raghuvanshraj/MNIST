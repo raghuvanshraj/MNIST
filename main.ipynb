{
 "cells": [
  {
   "cell_type": "code",
   "execution_count": 1,
   "id": "35a37b87",
   "metadata": {},
   "outputs": [],
   "source": [
    "import torch.nn as nn\n",
    "import torch.optim as optim\n",
    "from torchvision import transforms\n",
    "\n",
    "from src.data import MNIST\n",
    "from src.models import LeNet\n",
    "from src.training.config import TrainingConfig\n",
    "from src.training import ModelTrainer"
   ]
  },
  {
   "cell_type": "code",
   "execution_count": 2,
   "id": "a88de506",
   "metadata": {},
   "outputs": [],
   "source": [
    "training_config = TrainingConfig(batch_size=100, lr=0.0001)"
   ]
  },
  {
   "cell_type": "code",
   "execution_count": 3,
   "id": "2f30b7df",
   "metadata": {},
   "outputs": [],
   "source": [
    "model = LeNet()"
   ]
  },
  {
   "cell_type": "code",
   "execution_count": 4,
   "id": "7a7b47b5",
   "metadata": {},
   "outputs": [],
   "source": [
    "transform = transforms.Compose([\n",
    "    transforms.ToTensor(),\n",
    "    transforms.Normalize((0.5,), (0.5,))\n",
    "])"
   ]
  },
  {
   "cell_type": "code",
   "execution_count": 5,
   "id": "bfdbdc5f",
   "metadata": {},
   "outputs": [
    {
     "name": "stderr",
     "output_type": "stream",
     "text": [
      "C:\\Users\\raghu\\anaconda3\\envs\\CV\\lib\\site-packages\\torchvision\\datasets\\mnist.py:498: UserWarning: The given NumPy array is not writeable, and PyTorch does not support non-writeable tensors. This means you can write to the underlying (supposedly non-writeable) NumPy array using the tensor. You may want to copy the array to protect its data or make it writeable before converting it to a tensor. This type of warning will be suppressed for the rest of this program. (Triggered internally at  ..\\torch\\csrc\\utils\\tensor_numpy.cpp:180.)\n",
      "  return torch.from_numpy(parsed.astype(m[2], copy=False)).view(*s)\n"
     ]
    }
   ],
   "source": [
    "training_data = MNIST(train=True, root='./data', transform=transform)\n",
    "testing_data = MNIST(train=True, root='./data', transform=transform)"
   ]
  },
  {
   "cell_type": "code",
   "execution_count": 6,
   "id": "bd39d366",
   "metadata": {},
   "outputs": [
    {
     "data": {
      "text/plain": [
       "(60000, 60000)"
      ]
     },
     "execution_count": 6,
     "metadata": {},
     "output_type": "execute_result"
    }
   ],
   "source": [
    "len(training_data), len(testing_data)"
   ]
  },
  {
   "cell_type": "code",
   "execution_count": 7,
   "id": "c859ba43",
   "metadata": {},
   "outputs": [
    {
     "name": "stdout",
     "output_type": "stream",
     "text": [
      "using NVIDIA GeForce GTX 1060\n"
     ]
    }
   ],
   "source": [
    "model_trainer = ModelTrainer(\n",
    "    model,\n",
    "    optim.Adam,\n",
    "    nn.CrossEntropyLoss(),\n",
    "    training_config,\n",
    "    training_data,\n",
    "    cuda=True,\n",
    "    validation_data=testing_data\n",
    ")"
   ]
  },
  {
   "cell_type": "code",
   "execution_count": 8,
   "id": "65e7abdd",
   "metadata": {},
   "outputs": [
    {
     "name": "stderr",
     "output_type": "stream",
     "text": [
      "C:\\Users\\raghu\\anaconda3\\envs\\CV\\lib\\site-packages\\torch\\nn\\functional.py:718: UserWarning: Named tensors and all their associated APIs are an experimental feature and subject to change. Please do not use them for anything important until they are released as stable. (Triggered internally at  ..\\c10/core/TensorImpl.h:1156.)\n",
      "  return torch.max_pool2d(input, kernel_size, stride, padding, dilation, ceil_mode)\n"
     ]
    },
    {
     "name": "stdout",
     "output_type": "stream",
     "text": [
      "training metrics:   epoch: 0  loss: 0.5868898034095764      accuracy: 84.62667083740234   \n",
      "testing metrics:    epoch: 0  loss: 0.1953214704990387      accuracy: 94.35333251953125   \n",
      "training metrics:   epoch: 1  loss: 0.15314340591430664     accuracy: 95.52833557128906   \n",
      "testing metrics:    epoch: 1  loss: 0.11850399523973465     accuracy: 96.51333618164062   \n",
      "training metrics:   epoch: 2  loss: 0.10291855037212372     accuracy: 96.99666595458984   \n",
      "testing metrics:    epoch: 2  loss: 0.08449774980545044     accuracy: 97.42333221435547   \n",
      "training metrics:   epoch: 3  loss: 0.08014742285013199     accuracy: 97.58833312988281   \n",
      "testing metrics:    epoch: 3  loss: 0.06974821537733078     accuracy: 97.8800048828125    \n",
      "training metrics:   epoch: 4  loss: 0.06655918806791306     accuracy: 97.98500061035156   \n",
      "testing metrics:    epoch: 4  loss: 0.059605661779642105    accuracy: 98.2316665649414    \n",
      "training metrics:   epoch: 5  loss: 0.05707680061459541     accuracy: 98.26000213623047   \n",
      "testing metrics:    epoch: 5  loss: 0.05173406004905701     accuracy: 98.42666625976562   \n",
      "training metrics:   epoch: 6  loss: 0.05111362412571907     accuracy: 98.45166778564453   \n",
      "testing metrics:    epoch: 6  loss: 0.045020073652267456    accuracy: 98.62667083740234   \n",
      "training metrics:   epoch: 7  loss: 0.04564660042524338     accuracy: 98.63833618164062   \n",
      "testing metrics:    epoch: 7  loss: 0.042989443987607956    accuracy: 98.66000366210938   \n",
      "training metrics:   epoch: 8  loss: 0.040056854486465454    accuracy: 98.79167175292969   \n",
      "testing metrics:    epoch: 8  loss: 0.038374289870262146    accuracy: 98.80333709716797   \n",
      "training metrics:   epoch: 9  loss: 0.03703739494085312     accuracy: 98.88999938964844   \n",
      "testing metrics:    epoch: 9  loss: 0.036871861666440964    accuracy: 98.83833312988281   \n"
     ]
    }
   ],
   "source": [
    "training_metrics, testing_metrics = model_trainer.train(10, True)"
   ]
  },
  {
   "cell_type": "code",
   "execution_count": null,
   "id": "72cf2d68",
   "metadata": {},
   "outputs": [],
   "source": []
  }
 ],
 "metadata": {
  "kernelspec": {
   "display_name": "Python 3 (ipykernel)",
   "language": "python",
   "name": "python3"
  },
  "language_info": {
   "codemirror_mode": {
    "name": "ipython",
    "version": 3
   },
   "file_extension": ".py",
   "mimetype": "text/x-python",
   "name": "python",
   "nbconvert_exporter": "python",
   "pygments_lexer": "ipython3",
   "version": "3.9.6"
  }
 },
 "nbformat": 4,
 "nbformat_minor": 5
}
