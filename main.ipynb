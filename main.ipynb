{
 "cells": [
  {
   "cell_type": "markdown",
   "id": "b6c94b3c",
   "metadata": {},
   "source": [
    "# MNIST"
   ]
  },
  {
   "cell_type": "code",
   "execution_count": 1,
   "id": "35a37b87",
   "metadata": {},
   "outputs": [],
   "source": [
    "import torch.nn as nn\n",
    "import torch.optim as optim\n",
    "from torchvision import transforms\n",
    "\n",
    "from src.data import MNIST\n",
    "from src.models import LeNet\n",
    "from src.training.config import TrainingConfig\n",
    "from src.training import ModelTrainer\n",
    "import matplotlib.pyplot as plt"
   ]
  },
  {
   "cell_type": "code",
   "execution_count": 2,
   "id": "a88de506",
   "metadata": {},
   "outputs": [],
   "source": [
    "training_config = TrainingConfig(batch_size=100, lr=0.0001)"
   ]
  },
  {
   "cell_type": "code",
   "execution_count": 3,
   "id": "bce54038",
   "metadata": {},
   "outputs": [],
   "source": [
    "model = LeNet()"
   ]
  },
  {
   "cell_type": "code",
   "execution_count": 4,
   "id": "49f138e7",
   "metadata": {},
   "outputs": [],
   "source": [
    "transform = transforms.Compose([\n",
    "    transforms.Resize((28, 28)),\n",
    "    transforms.ToTensor(),\n",
    "    transforms.Normalize((0.5,), (0.5,))\n",
    "])"
   ]
  },
  {
   "cell_type": "code",
   "execution_count": 5,
   "id": "156a85a8",
   "metadata": {},
   "outputs": [
    {
     "name": "stderr",
     "output_type": "stream",
     "text": [
      "C:\\Users\\raghu\\anaconda3\\envs\\CV\\lib\\site-packages\\torchvision\\datasets\\mnist.py:498: UserWarning: The given NumPy array is not writeable, and PyTorch does not support non-writeable tensors. This means you can write to the underlying (supposedly non-writeable) NumPy array using the tensor. You may want to copy the array to protect its data or make it writeable before converting it to a tensor. This type of warning will be suppressed for the rest of this program. (Triggered internally at  ..\\torch\\csrc\\utils\\tensor_numpy.cpp:180.)\n",
      "  return torch.from_numpy(parsed.astype(m[2], copy=False)).view(*s)\n"
     ]
    }
   ],
   "source": [
    "training_data = MNIST(train=True, root='./data', transform=transform)\n",
    "testing_data = MNIST(train=False, root='./data', transform=transform)"
   ]
  },
  {
   "cell_type": "code",
   "execution_count": 6,
   "id": "d7e97caa",
   "metadata": {},
   "outputs": [
    {
     "data": {
      "text/plain": [
       "(60000, 10000)"
      ]
     },
     "execution_count": 6,
     "metadata": {},
     "output_type": "execute_result"
    }
   ],
   "source": [
    "len(training_data), len(testing_data)"
   ]
  },
  {
   "cell_type": "code",
   "execution_count": 7,
   "id": "635c7aa8",
   "metadata": {},
   "outputs": [
    {
     "name": "stdout",
     "output_type": "stream",
     "text": [
      "using NVIDIA GeForce GTX 1060\n"
     ]
    }
   ],
   "source": [
    "model_trainer = ModelTrainer(\n",
    "    model,\n",
    "    optim.Adam,\n",
    "    nn.CrossEntropyLoss(),\n",
    "    training_config,\n",
    "    training_data,\n",
    "    cuda=True,\n",
    "    validation_data=testing_data\n",
    ")"
   ]
  },
  {
   "cell_type": "code",
   "execution_count": 8,
   "id": "4800c542",
   "metadata": {},
   "outputs": [
    {
     "name": "stderr",
     "output_type": "stream",
     "text": [
      "C:\\Users\\raghu\\anaconda3\\envs\\CV\\lib\\site-packages\\torch\\nn\\functional.py:718: UserWarning: Named tensors and all their associated APIs are an experimental feature and subject to change. Please do not use them for anything important until they are released as stable. (Triggered internally at  ..\\c10/core/TensorImpl.h:1156.)\n",
      "  return torch.max_pool2d(input, kernel_size, stride, padding, dilation, ceil_mode)\n"
     ]
    },
    {
     "name": "stdout",
     "output_type": "stream",
     "text": [
      "\u001b[36mtraining metrics:   epoch: 0            loss: 0.588324301900963       accuracy: 84.21               \n",
      "\u001b[33mtesting metrics:    epoch: 0            loss: 0.18643051460385324     accuracy: 94.5                \n",
      "\u001b[36mtraining metrics:   epoch: 1            loss: 0.14885117702186107     accuracy: 95.64166666666667   \n",
      "\u001b[33mtesting metrics:    epoch: 1            loss: 0.1016111133620143      accuracy: 96.85               \n",
      "\u001b[36mtraining metrics:   epoch: 2            loss: 0.09786805480408171     accuracy: 97.13               \n",
      "\u001b[33mtesting metrics:    epoch: 2            loss: 0.07525796432979405     accuracy: 97.66               \n",
      "\u001b[36mtraining metrics:   epoch: 3            loss: 0.07631667819184562     accuracy: 97.725              \n",
      "\u001b[33mtesting metrics:    epoch: 3            loss: 0.062078393250703814    accuracy: 98.06               \n",
      "\u001b[36mtraining metrics:   epoch: 4            loss: 0.06373392862578232     accuracy: 98.09166666666667   \n",
      "\u001b[33mtesting metrics:    epoch: 4            loss: 0.04973903632722795     accuracy: 98.46               \n",
      "\u001b[36mtraining metrics:   epoch: 5            loss: 0.054361451430401456    accuracy: 98.37               \n",
      "\u001b[33mtesting metrics:    epoch: 5            loss: 0.04480049651581794     accuracy: 98.6                \n",
      "\u001b[36mtraining metrics:   epoch: 6            loss: 0.04776036777611201     accuracy: 98.58166666666666   \n",
      "\u001b[33mtesting metrics:    epoch: 6            loss: 0.03931979386834428     accuracy: 98.71               \n",
      "\u001b[36mtraining metrics:   epoch: 7            loss: 0.04189798879592369     accuracy: 98.73               \n",
      "\u001b[33mtesting metrics:    epoch: 7            loss: 0.03871411559171975     accuracy: 98.73               \n",
      "\u001b[36mtraining metrics:   epoch: 8            loss: 0.03902356477182669     accuracy: 98.77666666666667   \n",
      "\u001b[33mtesting metrics:    epoch: 8            loss: 0.03641769108595327     accuracy: 98.83               \n",
      "\u001b[36mtraining metrics:   epoch: 9            loss: 0.034960786242348454    accuracy: 98.96333333333334   \n",
      "\u001b[33mtesting metrics:    epoch: 9            loss: 0.035331167161930355    accuracy: 98.81               \n"
     ]
    }
   ],
   "source": [
    "training_metrics, testing_metrics = model_trainer.train(10, True)"
   ]
  },
  {
   "cell_type": "code",
   "execution_count": 9,
   "id": "88783ddc",
   "metadata": {},
   "outputs": [
    {
     "data": {
      "text/plain": [
       "<matplotlib.legend.Legend at 0x1fc13e73460>"
      ]
     },
     "execution_count": 9,
     "metadata": {},
     "output_type": "execute_result"
    },
    {
     "data": {
      "image/png": "[encoded data removed]",
      "text/plain": [
       "<Figure size 432x288 with 1 Axes>"
      ]
     },
     "metadata": {},
     "output_type": "display_data"
    }
   ],
   "source": [
    "plt.figure(facecolor='white')\n",
    "plt.plot(training_metrics.losses, label='training loss')\n",
    "plt.plot(testing_metrics.losses, label='testing loss')\n",
    "plt.grid()\n",
    "plt.legend()"
   ]
  },
  {
   "cell_type": "code",
   "execution_count": 10,
   "id": "9c89d7f5",
   "metadata": {},
   "outputs": [
    {
     "data": {
      "text/plain": [
       "<matplotlib.legend.Legend at 0x1fc00097ee0>"
      ]
     },
     "execution_count": 10,
     "metadata": {},
     "output_type": "execute_result"
    },
    {
     "data": {
      "image/png": "[encoded data removed]",
      "text/plain": [
       "<Figure size 432x288 with 1 Axes>"
      ]
     },
     "metadata": {},
     "output_type": "display_data"
    }
   ],
   "source": [
    "plt.figure(facecolor='white')\n",
    "plt.plot(training_metrics.accuracies, label='training accuracy')\n",
    "plt.plot(testing_metrics.accuracies, label='testing accuracy')\n",
    "plt.grid()\n",
    "plt.legend()"
   ]
  },
  {
   "cell_type": "code",
   "execution_count": 11,
   "id": "219cf87f",
   "metadata": {},
   "outputs": [
    {
     "data": {
      "text/plain": [
       "<matplotlib.image.AxesImage at 0x1fc10878b80>"
      ]
     },
     "execution_count": 11,
     "metadata": {},
     "output_type": "execute_result"
    },
    {
     "data": {
      "image/png": "[encoded data removed]",
      "text/plain": [
       "<Figure size 432x288 with 1 Axes>"
      ]
     },
     "metadata": {
      "needs_background": "light"
     },
     "output_type": "display_data"
    }
   ],
   "source": [
    "import requests\n",
    "from PIL import Image, ImageOps\n",
    "\n",
    "url = 'https://images.homedepot-static.com/productImages/007164ea-d47e-4f66-8d8c-fd9f621984a2/svn/architectural-mailboxes-house-letters-numbers-3585b-5-64_1000.jpg'\n",
    "response = requests.get(url, stream=True)\n",
    "img = Image.open(response.raw)\n",
    "plt.imshow(img)"
   ]
  },
  {
   "cell_type": "code",
   "execution_count": 12,
   "id": "967d5184",
   "metadata": {},
   "outputs": [],
   "source": [
    "def preprocess(img: Image):\n",
    "    img = ImageOps.invert(ImageOps.grayscale(img))\n",
    "    img = img.convert('1')\n",
    "    \n",
    "    return img"
   ]
  },
  {
   "cell_type": "code",
   "execution_count": 13,
   "id": "17ef11af",
   "metadata": {},
   "outputs": [
    {
     "data": {
      "text/plain": [
       "5"
      ]
     },
     "execution_count": 13,
     "metadata": {},
     "output_type": "execute_result"
    }
   ],
   "source": [
    "model_trainer.predict(img, transform, preprocess)"
   ]
  }
 ],
 "metadata": {
  "kernelspec": {
   "display_name": "Python 3 (ipykernel)",
   "language": "python",
   "name": "python3"
  },
  "language_info": {
   "codemirror_mode": {
    "name": "ipython",
    "version": 3
   },
   "file_extension": ".py",
   "mimetype": "text/x-python",
   "name": "python",
   "nbconvert_exporter": "python",
   "pygments_lexer": "ipython3",
   "version": "3.9.6"
  }
 },
 "nbformat": 4,
 "nbformat_minor": 5
}
