{
 "cells": [
  {
   "cell_type": "code",
   "execution_count": 1,
   "id": "35a37b87",
   "metadata": {},
   "outputs": [],
   "source": [
    "import torch.nn as nn\n",
    "import torch.optim as optim\n",
    "from torchvision import transforms\n",
    "\n",
    "from src.data import MNIST\n",
    "from src.models import LeNet\n",
    "from src.training.config import TrainingConfig\n",
    "from src.training import ModelTrainer\n",
    "import matplotlib.pyplot as plt"
   ]
  },
  {
   "cell_type": "code",
   "execution_count": 2,
   "id": "a88de506",
   "metadata": {},
   "outputs": [],
   "source": [
    "training_config = TrainingConfig(batch_size=100, lr=0.0001)"
   ]
  },
  {
   "cell_type": "code",
   "execution_count": 3,
   "id": "bce54038",
   "metadata": {},
   "outputs": [],
   "source": [
    "model = LeNet()"
   ]
  },
  {
   "cell_type": "code",
   "execution_count": 4,
   "id": "49f138e7",
   "metadata": {},
   "outputs": [],
   "source": [
    "transform = transforms.Compose([\n",
    "    transforms.Resize((28,28)),\n",
    "    transforms.ToTensor(),\n",
    "    transforms.Normalize((0.5,), (0.5,))\n",
    "])"
   ]
  },
  {
   "cell_type": "code",
   "execution_count": 5,
   "id": "156a85a8",
   "metadata": {},
   "outputs": [
    {
     "name": "stderr",
     "output_type": "stream",
     "text": [
      "C:\\Users\\raghu\\anaconda3\\envs\\CV\\lib\\site-packages\\torchvision\\datasets\\mnist.py:498: UserWarning: The given NumPy array is not writeable, and PyTorch does not support non-writeable tensors. This means you can write to the underlying (supposedly non-writeable) NumPy array using the tensor. You may want to copy the array to protect its data or make it writeable before converting it to a tensor. This type of warning will be suppressed for the rest of this program. (Triggered internally at  ..\\torch\\csrc\\utils\\tensor_numpy.cpp:180.)\n",
      "  return torch.from_numpy(parsed.astype(m[2], copy=False)).view(*s)\n"
     ]
    }
   ],
   "source": [
    "training_data = MNIST(train=True, root='./data', transform=transform)\n",
    "testing_data = MNIST(train=False, root='./data', transform=transform)"
   ]
  },
  {
   "cell_type": "code",
   "execution_count": 6,
   "id": "d7e97caa",
   "metadata": {},
   "outputs": [
    {
     "data": {
      "text/plain": [
       "(60000, 10000)"
      ]
     },
     "execution_count": 6,
     "metadata": {},
     "output_type": "execute_result"
    }
   ],
   "source": [
    "len(training_data), len(testing_data)"
   ]
  },
  {
   "cell_type": "code",
   "execution_count": 7,
   "id": "635c7aa8",
   "metadata": {},
   "outputs": [
    {
     "name": "stdout",
     "output_type": "stream",
     "text": [
      "using NVIDIA GeForce GTX 1060\n"
     ]
    }
   ],
   "source": [
    "model_trainer = ModelTrainer(\n",
    "    model,\n",
    "    optim.Adam,\n",
    "    nn.CrossEntropyLoss(),\n",
    "    training_config,\n",
    "    training_data,\n",
    "    cuda=True,\n",
    "    validation_data=testing_data\n",
    ")"
   ]
  },
  {
   "cell_type": "code",
   "execution_count": 8,
   "id": "4800c542",
   "metadata": {},
   "outputs": [
    {
     "name": "stderr",
     "output_type": "stream",
     "text": [
      "C:\\Users\\raghu\\anaconda3\\envs\\CV\\lib\\site-packages\\torch\\nn\\functional.py:718: UserWarning: Named tensors and all their associated APIs are an experimental feature and subject to change. Please do not use them for anything important until they are released as stable. (Triggered internally at  ..\\c10/core/TensorImpl.h:1156.)\n",
      "  return torch.max_pool2d(input, kernel_size, stride, padding, dilation, ceil_mode)\n"
     ]
    },
    {
     "name": "stdout",
     "output_type": "stream",
     "text": [
      "training metrics:   epoch: 0  loss: 0.5660764900470774      accuracy: 84.745              \n",
      "testing metrics:    epoch: 0  loss: 0.17687464848160744     accuracy: 94.9                \n",
      "training metrics:   epoch: 1  loss: 0.149194760688891       accuracy: 95.60166666666667   \n",
      "testing metrics:    epoch: 1  loss: 0.10237489618360997     accuracy: 97.04               \n",
      "training metrics:   epoch: 2  loss: 0.09915908887982368     accuracy: 97.025              \n",
      "testing metrics:    epoch: 2  loss: 0.07482448821887373     accuracy: 97.77               \n",
      "training metrics:   epoch: 3  loss: 0.0767439952896287      accuracy: 97.70166666666667   \n",
      "testing metrics:    epoch: 3  loss: 0.060018064426258205    accuracy: 98.27               \n",
      "training metrics:   epoch: 4  loss: 0.06538150800547252     accuracy: 98.03666666666666   \n",
      "testing metrics:    epoch: 4  loss: 0.05361601756885648     accuracy: 98.43               \n",
      "training metrics:   epoch: 5  loss: 0.05587025833937029     accuracy: 98.27333333333333   \n",
      "testing metrics:    epoch: 5  loss: 0.04519161452539265     accuracy: 98.64               \n",
      "training metrics:   epoch: 6  loss: 0.04881695498013869     accuracy: 98.53166666666667   \n",
      "testing metrics:    epoch: 6  loss: 0.045814448073506354    accuracy: 98.52               \n",
      "training metrics:   epoch: 7  loss: 0.04415119583640868     accuracy: 98.65               \n",
      "testing metrics:    epoch: 7  loss: 0.03866033910308033     accuracy: 98.81               \n",
      "training metrics:   epoch: 8  loss: 0.03902378518444796     accuracy: 98.84               \n",
      "testing metrics:    epoch: 8  loss: 0.03777801387012005     accuracy: 98.72               \n",
      "training metrics:   epoch: 9  loss: 0.03686355788144283     accuracy: 98.91333333333333   \n",
      "testing metrics:    epoch: 9  loss: 0.033952858552802355    accuracy: 98.91               \n"
     ]
    }
   ],
   "source": [
    "training_metrics, testing_metrics = model_trainer.train(10, True)"
   ]
  },
  {
   "cell_type": "code",
   "execution_count": 9,
   "id": "88783ddc",
   "metadata": {},
   "outputs": [
    {
     "data": {
      "text/plain": [
       "<matplotlib.legend.Legend at 0x21f38f44220>"
      ]
     },
     "execution_count": 9,
     "metadata": {},
     "output_type": "execute_result"
    },
    {
     "data": {
      "image/png": "[encoded data removed]",
      "text/plain": [
       "<Figure size 432x288 with 1 Axes>"
      ]
     },
     "metadata": {
      "needs_background": "light"
     },
     "output_type": "display_data"
    }
   ],
   "source": [
    "plt.plot(training_metrics.losses, label='training loss')\n",
    "plt.plot(testing_metrics.losses, label='testing loss')\n",
    "plt.grid()\n",
    "plt.legend()"
   ]
  },
  {
   "cell_type": "code",
   "execution_count": 10,
   "id": "9c89d7f5",
   "metadata": {},
   "outputs": [
    {
     "data": {
      "text/plain": [
       "<matplotlib.legend.Legend at 0x21f14ba1b20>"
      ]
     },
     "execution_count": 10,
     "metadata": {},
     "output_type": "execute_result"
    },
    {
     "data": {
      "image/png": "[encoded data removed]",
      "text/plain": [
       "<Figure size 432x288 with 1 Axes>"
      ]
     },
     "metadata": {
      "needs_background": "light"
     },
     "output_type": "display_data"
    }
   ],
   "source": [
    "plt.plot(training_metrics.accuracies, label='training accuracy')\n",
    "plt.plot(testing_metrics.accuracies, label='testing accuracy')\n",
    "plt.grid()\n",
    "plt.legend()"
   ]
  },
  {
   "cell_type": "code",
   "execution_count": 11,
   "id": "219cf87f",
   "metadata": {},
   "outputs": [
    {
     "data": {
      "text/plain": [
       "<matplotlib.image.AxesImage at 0x21f27b61790>"
      ]
     },
     "execution_count": 11,
     "metadata": {},
     "output_type": "execute_result"
    },
    {
     "data": {
      "image/png": "[encoded data removed]",
      "text/plain": [
       "<Figure size 432x288 with 1 Axes>"
      ]
     },
     "metadata": {
      "needs_background": "light"
     },
     "output_type": "display_data"
    }
   ],
   "source": [
    "import requests\n",
    "from PIL import Image, ImageOps\n",
    "\n",
    "url = 'https://images.homedepot-static.com/productImages/007164ea-d47e-4f66-8d8c-fd9f621984a2/svn/architectural-mailboxes-house-letters-numbers-3585b-5-64_1000.jpg'\n",
    "response = requests.get(url, stream = True)\n",
    "img = Image.open(response.raw)\n",
    "plt.imshow(img)"
   ]
  },
  {
   "cell_type": "code",
   "execution_count": 12,
   "id": "967d5184",
   "metadata": {},
   "outputs": [],
   "source": [
    "img = ImageOps.invert(ImageOps.grayscale(img))\n",
    "img = img.convert('1')\n",
    "img = transform(img)"
   ]
  },
  {
   "cell_type": "code",
   "execution_count": 13,
   "id": "17ef11af",
   "metadata": {},
   "outputs": [
    {
     "name": "stdout",
     "output_type": "stream",
     "text": [
      "5\n"
     ]
    }
   ],
   "source": [
    "import torch\n",
    "\n",
    "device = torch.device('cuda:0')\n",
    "images = img.to(device)\n",
    "image = images[0].unsqueeze(0).unsqueeze(0)\n",
    "output = model.predict(image)\n",
    "print(output)"
   ]
  },
  {
   "cell_type": "code",
   "execution_count": null,
   "id": "59f3a548",
   "metadata": {},
   "outputs": [],
   "source": []
  }
 ],
 "metadata": {
  "kernelspec": {
   "display_name": "Python 3 (ipykernel)",
   "language": "python",
   "name": "python3"
  },
  "language_info": {
   "codemirror_mode": {
    "name": "ipython",
    "version": 3
   },
   "file_extension": ".py",
   "mimetype": "text/x-python",
   "name": "python",
   "nbconvert_exporter": "python",
   "pygments_lexer": "ipython3",
   "version": "3.9.6"
  }
 },
 "nbformat": 4,
 "nbformat_minor": 5
}
