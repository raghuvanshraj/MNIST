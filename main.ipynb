{
 "cells": [
  {
   "cell_type": "code",
   "execution_count": 1,
   "id": "35a37b87",
   "metadata": {},
   "outputs": [],
   "source": [
    "import torch.nn as nn\n",
    "import torch.optim as optim\n",
    "from torchvision import transforms\n",
    "\n",
    "from src.data import MNIST\n",
    "from src.models import LeNet\n",
    "from src.training.config import TrainingConfig\n",
    "from src.training import ModelTrainer"
   ]
  },
  {
   "cell_type": "code",
   "execution_count": 2,
   "id": "a88de506",
   "metadata": {},
   "outputs": [],
   "source": [
    "training_config = TrainingConfig(batch_size=100, lr=0.0001)"
   ]
  },
  {
   "cell_type": "code",
   "execution_count": 3,
   "id": "763512c5",
   "metadata": {},
   "outputs": [],
   "source": [
    "model = LeNet()"
   ]
  },
  {
   "cell_type": "code",
   "execution_count": 4,
   "id": "3a569a25",
   "metadata": {},
   "outputs": [],
   "source": [
    "transform = transforms.Compose([\n",
    "    transforms.ToTensor(),\n",
    "    transforms.Normalize((0.5,), (0.5,))\n",
    "])"
   ]
  },
  {
   "cell_type": "code",
   "execution_count": 5,
   "id": "16f73441",
   "metadata": {},
   "outputs": [
    {
     "name": "stderr",
     "output_type": "stream",
     "text": [
      "C:\\Users\\raghu\\anaconda3\\envs\\CV\\lib\\site-packages\\torchvision\\datasets\\mnist.py:498: UserWarning: The given NumPy array is not writeable, and PyTorch does not support non-writeable tensors. This means you can write to the underlying (supposedly non-writeable) NumPy array using the tensor. You may want to copy the array to protect its data or make it writeable before converting it to a tensor. This type of warning will be suppressed for the rest of this program. (Triggered internally at  ..\\torch\\csrc\\utils\\tensor_numpy.cpp:180.)\n",
      "  return torch.from_numpy(parsed.astype(m[2], copy=False)).view(*s)\n"
     ]
    }
   ],
   "source": [
    "training_data = MNIST(train=True, root='./data', transform=transform)\n",
    "testing_data = MNIST(train=True, root='./data', transform=transform)"
   ]
  },
  {
   "cell_type": "code",
   "execution_count": 6,
   "id": "468f3541",
   "metadata": {},
   "outputs": [
    {
     "data": {
      "text/plain": [
       "(60000, 60000)"
      ]
     },
     "execution_count": 6,
     "metadata": {},
     "output_type": "execute_result"
    }
   ],
   "source": [
    "len(training_data), len(testing_data)"
   ]
  },
  {
   "cell_type": "code",
   "execution_count": 7,
   "id": "5c659069",
   "metadata": {},
   "outputs": [
    {
     "name": "stdout",
     "output_type": "stream",
     "text": [
      "using NVIDIA GeForce GTX 1060\n"
     ]
    }
   ],
   "source": [
    "model_trainer = ModelTrainer(\n",
    "    model,\n",
    "    optim.Adam,\n",
    "    nn.CrossEntropyLoss(),\n",
    "    training_config,\n",
    "    training_data,\n",
    "    cuda=True,\n",
    "    validation_data=testing_data\n",
    ")"
   ]
  },
  {
   "cell_type": "code",
   "execution_count": 8,
   "id": "48186be5",
   "metadata": {},
   "outputs": [
    {
     "name": "stderr",
     "output_type": "stream",
     "text": [
      "C:\\Users\\raghu\\anaconda3\\envs\\CV\\lib\\site-packages\\torch\\nn\\functional.py:718: UserWarning: Named tensors and all their associated APIs are an experimental feature and subject to change. Please do not use them for anything important until they are released as stable. (Triggered internally at  ..\\c10/core/TensorImpl.h:1156.)\n",
      "  return torch.max_pool2d(input, kernel_size, stride, padding, dilation, ceil_mode)\n"
     ]
    },
    {
     "name": "stdout",
     "output_type": "stream",
     "text": [
      "training metrics:   epoch: 0  loss: 0.5606369376182556      accuracy: 84.77999877929688   \n",
      "testing metrics:    epoch: 0  loss: 0.1863568276166916      accuracy: 94.51499938964844   \n",
      "training metrics:   epoch: 1  loss: 0.1422782987356186      accuracy: 95.80667114257812   \n",
      "testing metrics:    epoch: 1  loss: 0.10994043201208115     accuracy: 96.74333190917969   \n",
      "training metrics:   epoch: 2  loss: 0.09498652815818787     accuracy: 97.17500305175781   \n",
      "testing metrics:    epoch: 2  loss: 0.07878861576318741     accuracy: 97.59166717529297   \n",
      "training metrics:   epoch: 3  loss: 0.07467865198850632     accuracy: 97.7733383178711    \n",
      "testing metrics:    epoch: 3  loss: 0.0692383348941803      accuracy: 97.88666534423828   \n",
      "training metrics:   epoch: 4  loss: 0.06205415353178978     accuracy: 98.13999938964844   \n",
      "testing metrics:    epoch: 4  loss: 0.05745400860905647     accuracy: 98.23833465576172   \n",
      "training metrics:   epoch: 5  loss: 0.05489648878574371     accuracy: 98.32167053222656   \n",
      "testing metrics:    epoch: 5  loss: 0.04800955951213837     accuracy: 98.53166961669922   \n",
      "training metrics:   epoch: 6  loss: 0.048032455146312714    accuracy: 98.49833679199219   \n",
      "testing metrics:    epoch: 6  loss: 0.043029218912124634    accuracy: 98.71500396728516   \n",
      "training metrics:   epoch: 7  loss: 0.04221420735120773     accuracy: 98.66166687011719   \n",
      "testing metrics:    epoch: 7  loss: 0.038175854831933975    accuracy: 98.84667205810547   \n",
      "training metrics:   epoch: 8  loss: 0.03882664814591408     accuracy: 98.8183364868164    \n",
      "testing metrics:    epoch: 8  loss: 0.03639040142297745     accuracy: 98.89500427246094   \n",
      "training metrics:   epoch: 9  loss: 0.03441318869590759     accuracy: 98.9366683959961    \n",
      "testing metrics:    epoch: 9  loss: 0.0314902625977993      accuracy: 99.00333404541016   \n"
     ]
    }
   ],
   "source": [
    "training_metrics, testing_metrics = model_trainer.train(10, True)"
   ]
  },
  {
   "cell_type": "code",
   "execution_count": null,
   "id": "2ecde405",
   "metadata": {},
   "outputs": [],
   "source": []
  }
 ],
 "metadata": {
  "kernelspec": {
   "display_name": "Python 3 (ipykernel)",
   "language": "python",
   "name": "python3"
  },
  "language_info": {
   "codemirror_mode": {
    "name": "ipython",
    "version": 3
   },
   "file_extension": ".py",
   "mimetype": "text/x-python",
   "name": "python",
   "nbconvert_exporter": "python",
   "pygments_lexer": "ipython3",
   "version": "3.9.6"
  }
 },
 "nbformat": 4,
 "nbformat_minor": 5
}
